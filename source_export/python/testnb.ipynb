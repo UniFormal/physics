{
 "cells": [
  {
   "cell_type": "code",
   "execution_count": 2,
   "metadata": {
    "collapsed": false
   },
   "outputs": [],
   "source": [
    "import VanRoosbrockEg\n",
    "from mpdbase import *\n",
    "import numpy as np\n",
    "% matplotlib inline\n",
    "\n",
    "# initializing model\n",
    "model = VanRoosbrockEg.MPD_VanRoosbrockEg(np.linspace(0, 0.5, 10))\n",
    "\n",
    "# initializing state\n",
    "state = MPDState(model)\n"
   ]
  },
  {
   "cell_type": "code",
   "execution_count": 3,
   "metadata": {
    "collapsed": false
   },
   "outputs": [
    {
     "name": "stdout",
     "output_type": "stream",
     "text": [
      "----MPD----\n",
      "--name: VanRoosbrockEg\n",
      "--parent: http://mathhub.info/MitM/Modelss\n",
      "---Quantity Decl---\n",
      "name: electron_mobility\n",
      "parent: http://mathhub.info/MitM/Modelss?Quantities\n",
      "dimension: \n",
      "---Quantity Decl---\n",
      "name: doping_profile\n",
      "parent: http://mathhub.info/MitM/Modelss?Quantities\n",
      "dimension: VolumeDensity\n",
      "---Quantity Decl---\n",
      "name: electron_density\n",
      "parent: http://mathhub.info/MitM/Modelss?Quantities\n",
      "dimension: VolumeDensity\n",
      "---Quantity Decl---\n",
      "name: charge_density\n",
      "parent: http://mathhub.info/MitM/Modelss?Quantities\n",
      "dimension: \n",
      "---Quantity Decl---\n",
      "name: displacement\n",
      "parent: http://mathhub.info/MitM/Modelss?Quantities\n",
      "dimension: \n",
      "---Quantity Decl---\n",
      "name: quasifermi_potential\n",
      "parent: http://mathhub.info/MitM/Modelss?Quantities\n",
      "dimension: ElectricPotential\n",
      "---Quantity Decl---\n",
      "name: electrostatic_potential\n",
      "parent: http://mathhub.info/MitM/Modelss?Quantities\n",
      "dimension: ElectricPotential\n",
      "---Quantity Decl---\n",
      "name: electric_field\n",
      "parent: http://mathhub.info/MitM/Modelss?Quantities\n",
      "dimension: ElectricField\n",
      "---Quantity Decl---\n",
      "name: current_density\n",
      "parent: http://mathhub.info/MitM/Modelss?Quantities\n",
      "dimension: ElectricCurrentDensity\n",
      "---Quantity Decl---\n",
      "name: absolute_permittivity\n",
      "parent: http://mathhub.info/MitM/Modelss?Quantities\n",
      "dimension: ElectricalPermittivity\n",
      "---Quantity Decl---\n",
      "name: relative_permittivity\n",
      "parent: http://mathhub.info/MitM/Modelss?Quantities\n",
      "dimension: DimNone\n",
      "---Quantity Decl---\n",
      "name: test_quantity2\n",
      "parent: http://mathhub.info/MitM/Modelss?Quantities\n",
      "dimension: ElectricalPermittivity\n",
      "---Quantity Decl---\n",
      "name: test_quantity\n",
      "parent: http://mathhub.info/MitM/Modelss?Quantities\n",
      "dimension: ElectricalPermittivity\n",
      "---Quantity Decl---\n",
      "name: band_energy\n",
      "parent: http://mathhub.info/MitM/Modelss?Constants\n",
      "dimension: Energy\n",
      "---Quantity Decl---\n",
      "name: band_density\n",
      "parent: http://mathhub.info/MitM/Modelss?Constants\n",
      "dimension: VolumeDensity\n",
      "---Quantity Decl---\n",
      "name: temperature\n",
      "parent: http://mathhub.info/MitM/Modelss?Constants\n",
      "dimension: Temperature\n",
      "---Quantity Decl---\n",
      "name: boltzmann_constant\n",
      "parent: http://mathhub.info/MitM/Modelss?Constants\n",
      "dimension: \n",
      "---Quantity Decl---\n",
      "name: elementary_charge\n",
      "parent: http://mathhub.info/MitM/Modelss?Constants\n",
      "dimension: ElectricCharge\n",
      "---Quantity Decl---\n",
      "name: electric_constant\n",
      "parent: http://mathhub.info/MitM/Modelss?Constants\n",
      "dimension: ElectricalPermittivity\n",
      "---Law---\n",
      "name: electron_continuity_eqn\n",
      "parent: http://mathhub.info/MitM/Modelss?VanRoosbrockEg\n",
      "used quantities: current_density\n",
      "---Law---\n",
      "name: electron_current\n",
      "parent: http://mathhub.info/MitM/Modelss?VanRoosbrockEg\n",
      "used quantities: current_density,quasifermi_potential,electron_density,electron_mobility,elementary_charge\n",
      "---Law---\n",
      "name: electron_density_law\n",
      "parent: http://mathhub.info/MitM/Modelss?VanRoosbrockEg\n",
      "used quantities: electron_density,temperature,boltzmann_constant,band_energy,quasifermi_potential,electrostatic_potential,elementary_charge,band_density\n",
      "---Law---\n",
      "name: electric_field_law\n",
      "parent: http://mathhub.info/MitM/Modelss?VanRoosbrockEg\n",
      "used quantities: electric_field,electrostatic_potential\n",
      "---Law---\n",
      "name: displacement_relation\n",
      "parent: http://mathhub.info/MitM/Modelss?VanRoosbrockEg\n",
      "used quantities: displacement,electric_field,absolute_permittivity\n",
      "---Law---\n",
      "name: charge_density_law\n",
      "parent: http://mathhub.info/MitM/Modelss?VanRoosbrockEg\n",
      "used quantities: charge_density,electron_density,doping_profile,elementary_charge\n",
      "---Law---\n",
      "name: gauss_law\n",
      "parent: http://mathhub.info/MitM/Modelss?VanRoosbrockEg\n",
      "used quantities: charge_density,displacement\n",
      "---Law---\n",
      "name: permitivity_law\n",
      "parent: http://mathhub.info/MitM/Modelss?VanRoosbrockEg\n",
      "used quantities: absolute_permittivity,relative_permittivity,electric_constant\n",
      "\n"
     ]
    }
   ],
   "source": [
    "print(model)"
   ]
  },
  {
   "cell_type": "code",
   "execution_count": 3,
   "metadata": {
    "collapsed": false
   },
   "outputs": [
    {
     "data": {
      "text/plain": [
       "array([[8.85418782e-12],\n",
       "       [8.85418782e-12],\n",
       "       [8.85418782e-12],\n",
       "       [8.85418782e-12],\n",
       "       [8.85418782e-12],\n",
       "       [8.85418782e-12],\n",
       "       [8.85418782e-12],\n",
       "       [8.85418782e-12],\n",
       "       [8.85418782e-12],\n",
       "       [8.85418782e-12]])"
      ]
     },
     "execution_count": 3,
     "metadata": {},
     "output_type": "execute_result"
    }
   ],
   "source": [
    "state.absolute_permittivity"
   ]
  },
  {
   "cell_type": "code",
   "execution_count": 4,
   "metadata": {
    "collapsed": false
   },
   "outputs": [
    {
     "data": {
      "text/plain": [
       "array([[1.77083756e-11],\n",
       "       [1.77083756e-11],\n",
       "       [1.77083756e-11],\n",
       "       [1.77083756e-11],\n",
       "       [1.77083756e-11],\n",
       "       [1.77083756e-11],\n",
       "       [1.77083756e-11],\n",
       "       [1.77083756e-11],\n",
       "       [1.77083756e-11],\n",
       "       [1.77083756e-11]])"
      ]
     },
     "execution_count": 4,
     "metadata": {},
     "output_type": "execute_result"
    }
   ],
   "source": [
    "state.relative_permittivity.fill(2.0) # set to 2\n",
    "state.absolute_permittivity = model['permitivity_law'].absolute_permittivity(state) # evaluate law and update\n",
    "state.absolute_permittivity # print new value"
   ]
  },
  {
   "cell_type": "code",
   "execution_count": 5,
   "metadata": {
    "collapsed": false
   },
   "outputs": [
    {
     "name": "stdout",
     "output_type": "stream",
     "text": [
      "name: cycle1\n",
      "parent: http://mathhub.info/MitM/Modelss?VanRoosbrockEg?cycle1\n",
      "steps: gauss_law<-charge_density<~~charge_density_law<-electron_density<~~electron_density_law<-electrostatic_potential<~~electric_field_law<-electric_field<~~displacement_relation<-displacement\n"
     ]
    }
   ],
   "source": [
    "print(model.computation_steps[\"cycle1\"])"
   ]
  },
  {
   "cell_type": "code",
   "execution_count": 7,
   "metadata": {
    "collapsed": false
   },
   "outputs": [
    {
     "name": "stdout",
     "output_type": "stream",
     "text": [
      "[[nan nan nan nan nan nan nan nan nan nan]\n",
      " [nan nan nan nan nan nan nan nan nan nan]\n",
      " [nan nan nan nan nan nan nan nan nan nan]\n",
      " [nan nan nan nan nan nan nan nan nan nan]\n",
      " [nan nan nan nan nan nan nan nan nan nan]\n",
      " [nan nan nan nan nan nan nan nan nan nan]\n",
      " [nan nan nan nan nan nan nan nan nan nan]\n",
      " [nan nan nan nan nan nan nan nan nan nan]\n",
      " [nan nan nan nan nan nan nan nan nan nan]\n",
      " [nan nan nan nan nan nan nan nan nan nan]]\n"
     ]
    },
    {
     "name": "stderr",
     "output_type": "stream",
     "text": [
      "/home/aiman/Git/Physics MPD/physics/source_export/python/VanRoosbrockEg.py:300: RuntimeWarning: invalid value encountered in log\n",
      "  compute = lambda state: ((state['absolute_permittivity'] * (- gradient(((((numpy.log((((divergence(state['displacement'], self.space) / state['elementary_charge']) - state['doping_profile']) / state['band_density'])) * (state['boltzmann_constant'] * state['temperature'])) + state['band_energy']) / state['elementary_charge']) + state['quasifermi_potential']), self.space)))),\n"
     ]
    }
   ],
   "source": [
    "# try computing cycle from current state and print the new state\n",
    "print(model.computation_steps[\"cycle1\"].compute(state))"
   ]
  },
  {
   "cell_type": "code",
   "execution_count": null,
   "metadata": {
    "collapsed": true
   },
   "outputs": [],
   "source": [
    "# now do a gauss seidel iteration on the cycle and then \n"
   ]
  }
 ],
 "metadata": {
  "kernelspec": {
   "display_name": "Python 3",
   "language": "python",
   "name": "python3"
  },
  "language_info": {
   "codemirror_mode": {
    "name": "ipython",
    "version": 3
   },
   "file_extension": ".py",
   "mimetype": "text/x-python",
   "name": "python",
   "nbconvert_exporter": "python",
   "pygments_lexer": "ipython3",
   "version": "3.6.3"
  }
 },
 "nbformat": 4,
 "nbformat_minor": 2
}
