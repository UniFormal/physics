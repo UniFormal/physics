{
 "cells": [
  {
   "cell_type": "code",
   "execution_count": 1,
   "metadata": {
    "collapsed": true
   },
   "outputs": [],
   "source": [
    "%matplotlib inline\n",
    "%networkx inline\n",
    "\n",
    "import VanRoosbrockEg\n",
    "from mpdbase import *\n",
    "import numpy as np"
   ]
  },
  {
   "cell_type": "code",
   "execution_count": 2,
   "metadata": {
    "collapsed": true
   },
   "outputs": [],
   "source": [
    "# initializing model\n",
    "model = VanRoosbrockEg.MPD_VanRoosbrockEg(np.linspace(0, 0.5, 10))\n",
    "\n",
    "# initializing state\n",
    "state = MPDState(model)"
   ]
  },
  {
   "cell_type": "code",
   "execution_count": 3,
   "metadata": {
    "collapsed": false
   },
   "outputs": [
    {
     "name": "stdout",
     "output_type": "stream",
     "text": [
      "----MPD----\n",
      "--name: VanRoosbrockEg\n",
      "--parent: http://mathhub.info/MitM/Modelss\n",
      "---Quantity Decl---\n",
      "name: electron_mobility\n",
      "parent: http://mathhub.info/MitM/Modelss?Quantities\n",
      "dimension: \n",
      "---Quantity Decl---\n",
      "name: doping_profile\n",
      "parent: http://mathhub.info/MitM/Modelss?Quantities\n",
      "dimension: VolumeDensity\n",
      "---Quantity Decl---\n",
      "name: electron_density\n",
      "parent: http://mathhub.info/MitM/Modelss?Quantities\n",
      "dimension: VolumeDensity\n",
      "---Quantity Decl---\n",
      "name: charge_density\n",
      "parent: http://mathhub.info/MitM/Modelss?Quantities\n",
      "dimension: \n",
      "---Quantity Decl---\n",
      "name: displacement\n",
      "parent: http://mathhub.info/MitM/Modelss?Quantities\n",
      "dimension: \n",
      "---Quantity Decl---\n",
      "name: quasifermi_potential\n",
      "parent: http://mathhub.info/MitM/Modelss?Quantities\n",
      "dimension: ElectricPotential\n",
      "---Quantity Decl---\n",
      "name: electrostatic_potential\n",
      "parent: http://mathhub.info/MitM/Modelss?Quantities\n",
      "dimension: ElectricPotential\n",
      "---Quantity Decl---\n",
      "name: electric_field\n",
      "parent: http://mathhub.info/MitM/Modelss?Quantities\n",
      "dimension: ElectricField\n",
      "---Quantity Decl---\n",
      "name: current_density\n",
      "parent: http://mathhub.info/MitM/Modelss?Quantities\n",
      "dimension: ElectricCurrentDensity\n",
      "---Quantity Decl---\n",
      "name: absolute_permittivity\n",
      "parent: http://mathhub.info/MitM/Modelss?Quantities\n",
      "dimension: ElectricalPermittivity\n",
      "---Quantity Decl---\n",
      "name: relative_permittivity\n",
      "parent: http://mathhub.info/MitM/Modelss?Quantities\n",
      "dimension: DimNone\n",
      "---Quantity Decl---\n",
      "name: test_quantity2\n",
      "parent: http://mathhub.info/MitM/Modelss?Quantities\n",
      "dimension: ElectricalPermittivity\n",
      "---Quantity Decl---\n",
      "name: test_quantity\n",
      "parent: http://mathhub.info/MitM/Modelss?Quantities\n",
      "dimension: ElectricalPermittivity\n",
      "---Quantity Decl---\n",
      "name: band_energy\n",
      "parent: http://mathhub.info/MitM/Modelss?Constants\n",
      "dimension: Energy\n",
      "---Quantity Decl---\n",
      "name: band_density\n",
      "parent: http://mathhub.info/MitM/Modelss?Constants\n",
      "dimension: VolumeDensity\n",
      "---Quantity Decl---\n",
      "name: temperature\n",
      "parent: http://mathhub.info/MitM/Modelss?Constants\n",
      "dimension: Temperature\n",
      "---Quantity Decl---\n",
      "name: boltzmann_constant\n",
      "parent: http://mathhub.info/MitM/Modelss?Constants\n",
      "dimension: \n",
      "---Quantity Decl---\n",
      "name: elementary_charge\n",
      "parent: http://mathhub.info/MitM/Modelss?Constants\n",
      "dimension: ElectricCharge\n",
      "---Quantity Decl---\n",
      "name: electric_constant\n",
      "parent: http://mathhub.info/MitM/Modelss?Constants\n",
      "dimension: ElectricalPermittivity\n",
      "---Law---\n",
      "name: electron_continuity_eqn\n",
      "parent: http://mathhub.info/MitM/Modelss?VanRoosbrockEg\n",
      "used quantities: current_density\n",
      "---Law---\n",
      "name: electron_current\n",
      "parent: http://mathhub.info/MitM/Modelss?VanRoosbrockEg\n",
      "used quantities: current_density,quasifermi_potential,electron_density,electron_mobility,elementary_charge\n",
      "---Law---\n",
      "name: electron_density_law\n",
      "parent: http://mathhub.info/MitM/Modelss?VanRoosbrockEg\n",
      "used quantities: electron_density,temperature,boltzmann_constant,band_energy,quasifermi_potential,electrostatic_potential,elementary_charge,band_density\n",
      "---Law---\n",
      "name: electric_field_law\n",
      "parent: http://mathhub.info/MitM/Modelss?VanRoosbrockEg\n",
      "used quantities: electric_field,electrostatic_potential\n",
      "---Law---\n",
      "name: displacement_relation\n",
      "parent: http://mathhub.info/MitM/Modelss?VanRoosbrockEg\n",
      "used quantities: displacement,electric_field,absolute_permittivity\n",
      "---Law---\n",
      "name: charge_density_law\n",
      "parent: http://mathhub.info/MitM/Modelss?VanRoosbrockEg\n",
      "used quantities: charge_density,electron_density,doping_profile,elementary_charge\n",
      "---Law---\n",
      "name: gauss_law\n",
      "parent: http://mathhub.info/MitM/Modelss?VanRoosbrockEg\n",
      "used quantities: charge_density,displacement\n",
      "---Law---\n",
      "name: permitivity_law\n",
      "parent: http://mathhub.info/MitM/Modelss?VanRoosbrockEg\n",
      "used quantities: absolute_permittivity,relative_permittivity,electric_constant\n",
      "\n"
     ]
    }
   ],
   "source": [
    "print(model)"
   ]
  },
  {
   "cell_type": "code",
   "execution_count": 4,
   "metadata": {
    "collapsed": false
   },
   "outputs": [
    {
     "data": {
      "text/plain": [
       "<map at 0x7fb9ea68cb00>"
      ]
     },
     "execution_count": 4,
     "metadata": {},
     "output_type": "execute_result"
    }
   ],
   "source": [
    "model.pretty_mpd_graph()"
   ]
  },
  {
   "cell_type": "code",
   "execution_count": null,
   "metadata": {
    "collapsed": true
   },
   "outputs": [],
   "source": []
  }
 ],
 "metadata": {
  "kernelspec": {
   "display_name": "Python 3",
   "language": "python",
   "name": "python3"
  },
  "language_info": {
   "codemirror_mode": {
    "name": "ipython",
    "version": 3
   },
   "file_extension": ".py",
   "mimetype": "text/x-python",
   "name": "python",
   "nbconvert_exporter": "python",
   "pygments_lexer": "ipython3",
   "version": "3.6.3"
  }
 },
 "nbformat": 4,
 "nbformat_minor": 2
}
